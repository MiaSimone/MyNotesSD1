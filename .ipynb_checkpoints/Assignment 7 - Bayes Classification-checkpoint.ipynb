{
 "cells": [
  {
   "cell_type": "markdown",
   "id": "d2c405d5",
   "metadata": {},
   "source": [
    "# <center>Assignment 7 - Bayes Classification</center>"
   ]
  },
  {
   "cell_type": "markdown",
   "id": "c5d1e230",
   "metadata": {},
   "source": [
    "Bayes classification method can be applied for predicting a class based on probability\n",
    "assessments.\n",
    "\n",
    "Your task is to apply it for prediction of eventual divorce of a family.\n",
    "\n",
    "You can train your model by use of the dataset Divorce Predictors hosted in the dataset\n",
    "repository at https://archive.ics.uci.edu/ml/datasets/Divorce+Predictors+data+set#.\n",
    "\n",
    "Remember to explore and clean the data before using it for building a model.\n",
    "\n",
    "Apply various preprocessing techniques you are familiar with for improving the accuracy of\n",
    "the model, including dimensionality reduction and PCA, if appropriate.\n",
    "\n",
    "Visualize the data and the process, as much as possible.\n",
    "\n",
    "Apply another classification method of your choice and compare the results of it with Bayes\n",
    "results.\n",
    "***"
   ]
  },
  {
   "cell_type": "markdown",
   "id": "888bc2c9",
   "metadata": {},
   "source": [
    "## Step 1: Loading the libraries"
   ]
  },
  {
   "cell_type": "code",
   "execution_count": 1,
   "id": "89279bde",
   "metadata": {},
   "outputs": [],
   "source": [
    "# pandas to load data\n",
    "import time\n",
    "import pandas as pd\n",
    "from pandas.plotting import scatter_matrix\n",
    "import matplotlib.pyplot as plt\n",
    "from sklearn import model_selection\n",
    "from sklearn.metrics import classification_report\n",
    "from sklearn.metrics import confusion_matrix\n",
    "from sklearn.metrics import accuracy_score\n",
    "from sklearn.naive_bayes import GaussianNB\n",
    "from sklearn.naive_bayes import MultinomialNB\n",
    "from sklearn.linear_model import LogisticRegression\n",
    "from sklearn.decomposition import PCA"
   ]
  },
  {
   "cell_type": "markdown",
   "id": "bf4eb117",
   "metadata": {},
   "source": [
    "***\n",
    "## Step 2: Loading the dataset"
   ]
  },
  {
   "cell_type": "code",
   "execution_count": 2,
   "id": "373ee49d",
   "metadata": {},
   "outputs": [],
   "source": [
    "df = pd.read_excel('./../data/divorce.xlsx')"
   ]
  },
  {
   "cell_type": "markdown",
   "id": "df7b3be9",
   "metadata": {},
   "source": [
    "### Step 2.1: Understanding the dataset"
   ]
  },
  {
   "cell_type": "markdown",
   "id": "e027d0d2",
   "metadata": {},
   "source": [
    "Divorce Predictors dataset is consisting of 54 questionnaires which was carried out by using the Divorce Predictors Scale (DPS) on the basis of Gottman's couples therapy.\n",
    "\n",
    "Questionnaire was taken place in Turkey.\n",
    "\n",
    "All responses were collected on a 5 point scale\n",
    "\n",
    "- 0 = Never\n",
    "- 1 = Seldom\n",
    "- 2 = Averagely\n",
    "- 3 = Frequently\n",
    "- 4 = Always\n",
    "\n",
    "Target Variable –> Class \n",
    "\n",
    "- 0 = Married\n",
    "- 1 = Divorced"
   ]
  },
  {
   "cell_type": "markdown",
   "id": "bceca9a4",
   "metadata": {},
   "source": [
    "***\n",
    "## Step 3: Analysing the dataset"
   ]
  },
  {
   "cell_type": "code",
   "execution_count": 3,
   "id": "7256684e",
   "metadata": {},
   "outputs": [
    {
     "data": {
      "text/html": [
       "<div>\n",
       "<style scoped>\n",
       "    .dataframe tbody tr th:only-of-type {\n",
       "        vertical-align: middle;\n",
       "    }\n",
       "\n",
       "    .dataframe tbody tr th {\n",
       "        vertical-align: top;\n",
       "    }\n",
       "\n",
       "    .dataframe thead th {\n",
       "        text-align: right;\n",
       "    }\n",
       "</style>\n",
       "<table border=\"1\" class=\"dataframe\">\n",
       "  <thead>\n",
       "    <tr style=\"text-align: right;\">\n",
       "      <th></th>\n",
       "      <th>Atr1</th>\n",
       "      <th>Atr2</th>\n",
       "      <th>Atr3</th>\n",
       "      <th>Atr4</th>\n",
       "      <th>Atr5</th>\n",
       "      <th>Atr6</th>\n",
       "      <th>Atr7</th>\n",
       "      <th>Atr8</th>\n",
       "      <th>Atr9</th>\n",
       "      <th>Atr10</th>\n",
       "      <th>...</th>\n",
       "      <th>Atr46</th>\n",
       "      <th>Atr47</th>\n",
       "      <th>Atr48</th>\n",
       "      <th>Atr49</th>\n",
       "      <th>Atr50</th>\n",
       "      <th>Atr51</th>\n",
       "      <th>Atr52</th>\n",
       "      <th>Atr53</th>\n",
       "      <th>Atr54</th>\n",
       "      <th>Class</th>\n",
       "    </tr>\n",
       "  </thead>\n",
       "  <tbody>\n",
       "    <tr>\n",
       "      <th>0</th>\n",
       "      <td>2</td>\n",
       "      <td>2</td>\n",
       "      <td>4</td>\n",
       "      <td>1</td>\n",
       "      <td>0</td>\n",
       "      <td>0</td>\n",
       "      <td>0</td>\n",
       "      <td>0</td>\n",
       "      <td>0</td>\n",
       "      <td>0</td>\n",
       "      <td>...</td>\n",
       "      <td>2</td>\n",
       "      <td>1</td>\n",
       "      <td>3</td>\n",
       "      <td>3</td>\n",
       "      <td>3</td>\n",
       "      <td>2</td>\n",
       "      <td>3</td>\n",
       "      <td>2</td>\n",
       "      <td>1</td>\n",
       "      <td>1</td>\n",
       "    </tr>\n",
       "    <tr>\n",
       "      <th>1</th>\n",
       "      <td>4</td>\n",
       "      <td>4</td>\n",
       "      <td>4</td>\n",
       "      <td>4</td>\n",
       "      <td>4</td>\n",
       "      <td>0</td>\n",
       "      <td>0</td>\n",
       "      <td>4</td>\n",
       "      <td>4</td>\n",
       "      <td>4</td>\n",
       "      <td>...</td>\n",
       "      <td>2</td>\n",
       "      <td>2</td>\n",
       "      <td>3</td>\n",
       "      <td>4</td>\n",
       "      <td>4</td>\n",
       "      <td>4</td>\n",
       "      <td>4</td>\n",
       "      <td>2</td>\n",
       "      <td>2</td>\n",
       "      <td>1</td>\n",
       "    </tr>\n",
       "    <tr>\n",
       "      <th>2</th>\n",
       "      <td>2</td>\n",
       "      <td>2</td>\n",
       "      <td>2</td>\n",
       "      <td>2</td>\n",
       "      <td>1</td>\n",
       "      <td>3</td>\n",
       "      <td>2</td>\n",
       "      <td>1</td>\n",
       "      <td>1</td>\n",
       "      <td>2</td>\n",
       "      <td>...</td>\n",
       "      <td>3</td>\n",
       "      <td>2</td>\n",
       "      <td>3</td>\n",
       "      <td>1</td>\n",
       "      <td>1</td>\n",
       "      <td>1</td>\n",
       "      <td>2</td>\n",
       "      <td>2</td>\n",
       "      <td>2</td>\n",
       "      <td>1</td>\n",
       "    </tr>\n",
       "    <tr>\n",
       "      <th>3</th>\n",
       "      <td>3</td>\n",
       "      <td>2</td>\n",
       "      <td>3</td>\n",
       "      <td>2</td>\n",
       "      <td>3</td>\n",
       "      <td>3</td>\n",
       "      <td>3</td>\n",
       "      <td>3</td>\n",
       "      <td>3</td>\n",
       "      <td>3</td>\n",
       "      <td>...</td>\n",
       "      <td>2</td>\n",
       "      <td>2</td>\n",
       "      <td>3</td>\n",
       "      <td>3</td>\n",
       "      <td>3</td>\n",
       "      <td>3</td>\n",
       "      <td>2</td>\n",
       "      <td>2</td>\n",
       "      <td>2</td>\n",
       "      <td>1</td>\n",
       "    </tr>\n",
       "    <tr>\n",
       "      <th>4</th>\n",
       "      <td>2</td>\n",
       "      <td>2</td>\n",
       "      <td>1</td>\n",
       "      <td>1</td>\n",
       "      <td>1</td>\n",
       "      <td>1</td>\n",
       "      <td>0</td>\n",
       "      <td>0</td>\n",
       "      <td>0</td>\n",
       "      <td>0</td>\n",
       "      <td>...</td>\n",
       "      <td>2</td>\n",
       "      <td>1</td>\n",
       "      <td>2</td>\n",
       "      <td>3</td>\n",
       "      <td>2</td>\n",
       "      <td>2</td>\n",
       "      <td>2</td>\n",
       "      <td>1</td>\n",
       "      <td>0</td>\n",
       "      <td>1</td>\n",
       "    </tr>\n",
       "  </tbody>\n",
       "</table>\n",
       "<p>5 rows × 55 columns</p>\n",
       "</div>"
      ],
      "text/plain": [
       "   Atr1  Atr2  Atr3  Atr4  Atr5  Atr6  Atr7  Atr8  Atr9  Atr10  ...  Atr46  \\\n",
       "0     2     2     4     1     0     0     0     0     0      0  ...      2   \n",
       "1     4     4     4     4     4     0     0     4     4      4  ...      2   \n",
       "2     2     2     2     2     1     3     2     1     1      2  ...      3   \n",
       "3     3     2     3     2     3     3     3     3     3      3  ...      2   \n",
       "4     2     2     1     1     1     1     0     0     0      0  ...      2   \n",
       "\n",
       "   Atr47  Atr48  Atr49  Atr50  Atr51  Atr52  Atr53  Atr54  Class  \n",
       "0      1      3      3      3      2      3      2      1      1  \n",
       "1      2      3      4      4      4      4      2      2      1  \n",
       "2      2      3      1      1      1      2      2      2      1  \n",
       "3      2      3      3      3      3      2      2      2      1  \n",
       "4      1      2      3      2      2      2      1      0      1  \n",
       "\n",
       "[5 rows x 55 columns]"
      ]
     },
     "execution_count": 3,
     "metadata": {},
     "output_type": "execute_result"
    }
   ],
   "source": [
    "# Check the format\n",
    "df.head()"
   ]
  },
  {
   "cell_type": "code",
   "execution_count": 4,
   "id": "4af1c003",
   "metadata": {},
   "outputs": [
    {
     "data": {
      "text/plain": [
       "(170, 55)"
      ]
     },
     "execution_count": 4,
     "metadata": {},
     "output_type": "execute_result"
    }
   ],
   "source": [
    "# Check the rows and columns of the dataset.\n",
    "df.shape"
   ]
  },
  {
   "cell_type": "code",
   "execution_count": 5,
   "id": "3386734c",
   "metadata": {
    "scrolled": true
   },
   "outputs": [
    {
     "data": {
      "text/html": [
       "<div>\n",
       "<style scoped>\n",
       "    .dataframe tbody tr th:only-of-type {\n",
       "        vertical-align: middle;\n",
       "    }\n",
       "\n",
       "    .dataframe tbody tr th {\n",
       "        vertical-align: top;\n",
       "    }\n",
       "\n",
       "    .dataframe thead th {\n",
       "        text-align: right;\n",
       "    }\n",
       "</style>\n",
       "<table border=\"1\" class=\"dataframe\">\n",
       "  <thead>\n",
       "    <tr style=\"text-align: right;\">\n",
       "      <th></th>\n",
       "      <th>Atr1</th>\n",
       "      <th>Atr2</th>\n",
       "      <th>Atr3</th>\n",
       "      <th>Atr4</th>\n",
       "      <th>Atr5</th>\n",
       "      <th>Atr6</th>\n",
       "      <th>Atr7</th>\n",
       "      <th>Atr8</th>\n",
       "      <th>Atr9</th>\n",
       "      <th>Atr10</th>\n",
       "      <th>...</th>\n",
       "      <th>Atr46</th>\n",
       "      <th>Atr47</th>\n",
       "      <th>Atr48</th>\n",
       "      <th>Atr49</th>\n",
       "      <th>Atr50</th>\n",
       "      <th>Atr51</th>\n",
       "      <th>Atr52</th>\n",
       "      <th>Atr53</th>\n",
       "      <th>Atr54</th>\n",
       "      <th>Class</th>\n",
       "    </tr>\n",
       "  </thead>\n",
       "  <tbody>\n",
       "    <tr>\n",
       "      <th>count</th>\n",
       "      <td>170.000000</td>\n",
       "      <td>170.000000</td>\n",
       "      <td>170.000000</td>\n",
       "      <td>170.000000</td>\n",
       "      <td>170.000000</td>\n",
       "      <td>170.000000</td>\n",
       "      <td>170.000000</td>\n",
       "      <td>170.000000</td>\n",
       "      <td>170.000000</td>\n",
       "      <td>170.000000</td>\n",
       "      <td>...</td>\n",
       "      <td>170.000000</td>\n",
       "      <td>170.000000</td>\n",
       "      <td>170.000000</td>\n",
       "      <td>170.000000</td>\n",
       "      <td>170.000000</td>\n",
       "      <td>170.000000</td>\n",
       "      <td>170.000000</td>\n",
       "      <td>170.000000</td>\n",
       "      <td>170.000000</td>\n",
       "      <td>170.000000</td>\n",
       "    </tr>\n",
       "    <tr>\n",
       "      <th>mean</th>\n",
       "      <td>1.776471</td>\n",
       "      <td>1.652941</td>\n",
       "      <td>1.764706</td>\n",
       "      <td>1.482353</td>\n",
       "      <td>1.541176</td>\n",
       "      <td>0.747059</td>\n",
       "      <td>0.494118</td>\n",
       "      <td>1.452941</td>\n",
       "      <td>1.458824</td>\n",
       "      <td>1.576471</td>\n",
       "      <td>...</td>\n",
       "      <td>2.552941</td>\n",
       "      <td>2.270588</td>\n",
       "      <td>2.741176</td>\n",
       "      <td>2.382353</td>\n",
       "      <td>2.429412</td>\n",
       "      <td>2.476471</td>\n",
       "      <td>2.517647</td>\n",
       "      <td>2.241176</td>\n",
       "      <td>2.011765</td>\n",
       "      <td>0.494118</td>\n",
       "    </tr>\n",
       "    <tr>\n",
       "      <th>std</th>\n",
       "      <td>1.627257</td>\n",
       "      <td>1.468654</td>\n",
       "      <td>1.415444</td>\n",
       "      <td>1.504327</td>\n",
       "      <td>1.632169</td>\n",
       "      <td>0.904046</td>\n",
       "      <td>0.898698</td>\n",
       "      <td>1.546371</td>\n",
       "      <td>1.557976</td>\n",
       "      <td>1.421529</td>\n",
       "      <td>...</td>\n",
       "      <td>1.371786</td>\n",
       "      <td>1.586841</td>\n",
       "      <td>1.137348</td>\n",
       "      <td>1.511587</td>\n",
       "      <td>1.405090</td>\n",
       "      <td>1.260238</td>\n",
       "      <td>1.476537</td>\n",
       "      <td>1.505634</td>\n",
       "      <td>1.667611</td>\n",
       "      <td>0.501442</td>\n",
       "    </tr>\n",
       "    <tr>\n",
       "      <th>min</th>\n",
       "      <td>0.000000</td>\n",
       "      <td>0.000000</td>\n",
       "      <td>0.000000</td>\n",
       "      <td>0.000000</td>\n",
       "      <td>0.000000</td>\n",
       "      <td>0.000000</td>\n",
       "      <td>0.000000</td>\n",
       "      <td>0.000000</td>\n",
       "      <td>0.000000</td>\n",
       "      <td>0.000000</td>\n",
       "      <td>...</td>\n",
       "      <td>0.000000</td>\n",
       "      <td>0.000000</td>\n",
       "      <td>0.000000</td>\n",
       "      <td>0.000000</td>\n",
       "      <td>0.000000</td>\n",
       "      <td>0.000000</td>\n",
       "      <td>0.000000</td>\n",
       "      <td>0.000000</td>\n",
       "      <td>0.000000</td>\n",
       "      <td>0.000000</td>\n",
       "    </tr>\n",
       "    <tr>\n",
       "      <th>25%</th>\n",
       "      <td>0.000000</td>\n",
       "      <td>0.000000</td>\n",
       "      <td>0.000000</td>\n",
       "      <td>0.000000</td>\n",
       "      <td>0.000000</td>\n",
       "      <td>0.000000</td>\n",
       "      <td>0.000000</td>\n",
       "      <td>0.000000</td>\n",
       "      <td>0.000000</td>\n",
       "      <td>0.000000</td>\n",
       "      <td>...</td>\n",
       "      <td>2.000000</td>\n",
       "      <td>1.000000</td>\n",
       "      <td>2.000000</td>\n",
       "      <td>1.000000</td>\n",
       "      <td>1.000000</td>\n",
       "      <td>2.000000</td>\n",
       "      <td>1.000000</td>\n",
       "      <td>1.000000</td>\n",
       "      <td>0.000000</td>\n",
       "      <td>0.000000</td>\n",
       "    </tr>\n",
       "    <tr>\n",
       "      <th>50%</th>\n",
       "      <td>2.000000</td>\n",
       "      <td>2.000000</td>\n",
       "      <td>2.000000</td>\n",
       "      <td>1.000000</td>\n",
       "      <td>1.000000</td>\n",
       "      <td>0.000000</td>\n",
       "      <td>0.000000</td>\n",
       "      <td>1.000000</td>\n",
       "      <td>1.000000</td>\n",
       "      <td>2.000000</td>\n",
       "      <td>...</td>\n",
       "      <td>3.000000</td>\n",
       "      <td>2.000000</td>\n",
       "      <td>3.000000</td>\n",
       "      <td>3.000000</td>\n",
       "      <td>2.000000</td>\n",
       "      <td>3.000000</td>\n",
       "      <td>3.000000</td>\n",
       "      <td>2.000000</td>\n",
       "      <td>2.000000</td>\n",
       "      <td>0.000000</td>\n",
       "    </tr>\n",
       "    <tr>\n",
       "      <th>75%</th>\n",
       "      <td>3.000000</td>\n",
       "      <td>3.000000</td>\n",
       "      <td>3.000000</td>\n",
       "      <td>3.000000</td>\n",
       "      <td>3.000000</td>\n",
       "      <td>1.000000</td>\n",
       "      <td>1.000000</td>\n",
       "      <td>3.000000</td>\n",
       "      <td>3.000000</td>\n",
       "      <td>3.000000</td>\n",
       "      <td>...</td>\n",
       "      <td>4.000000</td>\n",
       "      <td>4.000000</td>\n",
       "      <td>4.000000</td>\n",
       "      <td>4.000000</td>\n",
       "      <td>4.000000</td>\n",
       "      <td>4.000000</td>\n",
       "      <td>4.000000</td>\n",
       "      <td>4.000000</td>\n",
       "      <td>4.000000</td>\n",
       "      <td>1.000000</td>\n",
       "    </tr>\n",
       "    <tr>\n",
       "      <th>max</th>\n",
       "      <td>4.000000</td>\n",
       "      <td>4.000000</td>\n",
       "      <td>4.000000</td>\n",
       "      <td>4.000000</td>\n",
       "      <td>4.000000</td>\n",
       "      <td>4.000000</td>\n",
       "      <td>4.000000</td>\n",
       "      <td>4.000000</td>\n",
       "      <td>4.000000</td>\n",
       "      <td>4.000000</td>\n",
       "      <td>...</td>\n",
       "      <td>4.000000</td>\n",
       "      <td>4.000000</td>\n",
       "      <td>4.000000</td>\n",
       "      <td>4.000000</td>\n",
       "      <td>4.000000</td>\n",
       "      <td>4.000000</td>\n",
       "      <td>4.000000</td>\n",
       "      <td>4.000000</td>\n",
       "      <td>4.000000</td>\n",
       "      <td>1.000000</td>\n",
       "    </tr>\n",
       "  </tbody>\n",
       "</table>\n",
       "<p>8 rows × 55 columns</p>\n",
       "</div>"
      ],
      "text/plain": [
       "             Atr1        Atr2        Atr3        Atr4        Atr5        Atr6  \\\n",
       "count  170.000000  170.000000  170.000000  170.000000  170.000000  170.000000   \n",
       "mean     1.776471    1.652941    1.764706    1.482353    1.541176    0.747059   \n",
       "std      1.627257    1.468654    1.415444    1.504327    1.632169    0.904046   \n",
       "min      0.000000    0.000000    0.000000    0.000000    0.000000    0.000000   \n",
       "25%      0.000000    0.000000    0.000000    0.000000    0.000000    0.000000   \n",
       "50%      2.000000    2.000000    2.000000    1.000000    1.000000    0.000000   \n",
       "75%      3.000000    3.000000    3.000000    3.000000    3.000000    1.000000   \n",
       "max      4.000000    4.000000    4.000000    4.000000    4.000000    4.000000   \n",
       "\n",
       "             Atr7        Atr8        Atr9       Atr10  ...       Atr46  \\\n",
       "count  170.000000  170.000000  170.000000  170.000000  ...  170.000000   \n",
       "mean     0.494118    1.452941    1.458824    1.576471  ...    2.552941   \n",
       "std      0.898698    1.546371    1.557976    1.421529  ...    1.371786   \n",
       "min      0.000000    0.000000    0.000000    0.000000  ...    0.000000   \n",
       "25%      0.000000    0.000000    0.000000    0.000000  ...    2.000000   \n",
       "50%      0.000000    1.000000    1.000000    2.000000  ...    3.000000   \n",
       "75%      1.000000    3.000000    3.000000    3.000000  ...    4.000000   \n",
       "max      4.000000    4.000000    4.000000    4.000000  ...    4.000000   \n",
       "\n",
       "            Atr47       Atr48       Atr49       Atr50       Atr51       Atr52  \\\n",
       "count  170.000000  170.000000  170.000000  170.000000  170.000000  170.000000   \n",
       "mean     2.270588    2.741176    2.382353    2.429412    2.476471    2.517647   \n",
       "std      1.586841    1.137348    1.511587    1.405090    1.260238    1.476537   \n",
       "min      0.000000    0.000000    0.000000    0.000000    0.000000    0.000000   \n",
       "25%      1.000000    2.000000    1.000000    1.000000    2.000000    1.000000   \n",
       "50%      2.000000    3.000000    3.000000    2.000000    3.000000    3.000000   \n",
       "75%      4.000000    4.000000    4.000000    4.000000    4.000000    4.000000   \n",
       "max      4.000000    4.000000    4.000000    4.000000    4.000000    4.000000   \n",
       "\n",
       "            Atr53       Atr54       Class  \n",
       "count  170.000000  170.000000  170.000000  \n",
       "mean     2.241176    2.011765    0.494118  \n",
       "std      1.505634    1.667611    0.501442  \n",
       "min      0.000000    0.000000    0.000000  \n",
       "25%      1.000000    0.000000    0.000000  \n",
       "50%      2.000000    2.000000    0.000000  \n",
       "75%      4.000000    4.000000    1.000000  \n",
       "max      4.000000    4.000000    1.000000  \n",
       "\n",
       "[8 rows x 55 columns]"
      ]
     },
     "execution_count": 5,
     "metadata": {},
     "output_type": "execute_result"
    }
   ],
   "source": [
    "df.describe()"
   ]
  },
  {
   "cell_type": "code",
   "execution_count": 6,
   "id": "18ee8403",
   "metadata": {},
   "outputs": [
    {
     "data": {
      "text/plain": [
       "Class\n",
       "0    86\n",
       "1    84\n",
       "dtype: int64"
      ]
     },
     "execution_count": 6,
     "metadata": {},
     "output_type": "execute_result"
    }
   ],
   "source": [
    "# Group by Class and see the size of each group.\n",
    "df.groupby('Class').size()"
   ]
  },
  {
   "cell_type": "code",
   "execution_count": 7,
   "id": "cd019903",
   "metadata": {},
   "outputs": [
    {
     "data": {
      "image/png": "[encoded data removed]",
      "text/plain": [
       "<Figure size 1080x720 with 56 Axes>"
      ]
     },
     "metadata": {
      "needs_background": "light"
     },
     "output_type": "display_data"
    }
   ],
   "source": [
    "df.hist(figsize=(15,10))\n",
    "plt.show()"
   ]
  },
  {
   "cell_type": "markdown",
   "id": "4ed53ffb",
   "metadata": {},
   "source": [
    "### * Cleaning the dataset *"
   ]
  },
  {
   "cell_type": "code",
   "execution_count": 8,
   "id": "cb0401c0",
   "metadata": {},
   "outputs": [],
   "source": [
    "# Replace 0-1 with Divorced/Married.\n",
    "df['Class'] = df['Class'].replace(to_replace=1, value='Divorced', regex=True)\n",
    "df['Class'] = df['Class'].replace(to_replace=0, value='Married', regex=True)"
   ]
  },
  {
   "cell_type": "code",
   "execution_count": 9,
   "id": "0b0f32db",
   "metadata": {},
   "outputs": [],
   "source": [
    "# Rename column Class to Status.\n",
    "df = df.rename(columns={\"Class\": \"Status\"})"
   ]
  },
  {
   "cell_type": "code",
   "execution_count": 10,
   "id": "3f6c3282",
   "metadata": {},
   "outputs": [],
   "source": [
    "# Replace column names 'Atr' with 'Qn'.\n",
    "df.columns = df.columns.str.replace(\"Atr\", \"Qn \")"
   ]
  },
  {
   "cell_type": "code",
   "execution_count": 11,
   "id": "b3216543",
   "metadata": {},
   "outputs": [
    {
     "data": {
      "text/plain": [
       "Qn 1      0.0\n",
       "Qn 2      0.0\n",
       "Qn 3      0.0\n",
       "Qn 4      0.0\n",
       "Qn 5      0.0\n",
       "Qn 6      0.0\n",
       "Qn 7      0.0\n",
       "Qn 8      0.0\n",
       "Qn 9      0.0\n",
       "Qn 10     0.0\n",
       "Qn 11     0.0\n",
       "Qn 12     0.0\n",
       "Qn 13     0.0\n",
       "Qn 14     0.0\n",
       "Qn 15     0.0\n",
       "Qn 16     0.0\n",
       "Qn 17     0.0\n",
       "Qn 18     0.0\n",
       "Qn 19     0.0\n",
       "Qn 20     0.0\n",
       "Qn 21     0.0\n",
       "Qn 22     0.0\n",
       "Qn 23     0.0\n",
       "Qn 24     0.0\n",
       "Qn 25     0.0\n",
       "Qn 26     0.0\n",
       "Qn 27     0.0\n",
       "Qn 28     0.0\n",
       "Qn 29     0.0\n",
       "Qn 30     0.0\n",
       "Qn 31     0.0\n",
       "Qn 32     0.0\n",
       "Qn 33     0.0\n",
       "Qn 34     0.0\n",
       "Qn 35     0.0\n",
       "Qn 36     0.0\n",
       "Qn 37     0.0\n",
       "Qn 38     0.0\n",
       "Qn 39     0.0\n",
       "Qn 40     0.0\n",
       "Qn 41     0.0\n",
       "Qn 42     0.0\n",
       "Qn 43     0.0\n",
       "Qn 44     0.0\n",
       "Qn 45     0.0\n",
       "Qn 46     0.0\n",
       "Qn 47     0.0\n",
       "Qn 48     0.0\n",
       "Qn 49     0.0\n",
       "Qn 50     0.0\n",
       "Qn 51     0.0\n",
       "Qn 52     0.0\n",
       "Qn 53     0.0\n",
       "Qn 54     0.0\n",
       "Status    0.0\n",
       "dtype: float64"
      ]
     },
     "execution_count": 11,
     "metadata": {},
     "output_type": "execute_result"
    }
   ],
   "source": [
    "# Check for null values.\n",
    "\n",
    "df.isnull().mean()"
   ]
  },
  {
   "cell_type": "markdown",
   "id": "e308a2ac",
   "metadata": {},
   "source": [
    "***\n",
    "## Step 4: Training the dataset"
   ]
  },
  {
   "cell_type": "code",
   "execution_count": 12,
   "id": "23f43cc6",
   "metadata": {},
   "outputs": [],
   "source": [
    "# Convert the dataset into two arrays\n",
    "array = df.values\n",
    "# Create two (sub)arrays from it\n",
    "X = array[:,0:54] # data without Status\n",
    "y = array[:,54]   # just Status"
   ]
  },
  {
   "cell_type": "code",
   "execution_count": 13,
   "id": "48f62333",
   "metadata": {},
   "outputs": [],
   "source": [
    "# Split the dataset into two: \n",
    "#   80% of it as training data\n",
    "#   20% as a validation dataset\n",
    "# Let Python split the set into four, we tell the proportion of splitting\n",
    "test_set_size = 0.2\n",
    "\n",
    "# Initial value for randomization\n",
    "seed = 7\n",
    "X_train, X_test, y_train, y_test = model_selection.train_test_split(X, y, test_size=test_set_size, random_state=seed)"
   ]
  },
  {
   "cell_type": "markdown",
   "id": "a21b4423",
   "metadata": {},
   "source": [
    "### 4.1 Choose a model\n",
    "\n",
    "#### <span style='color: #A2260B'>GaussianNB</span>"
   ]
  },
  {
   "cell_type": "code",
   "execution_count": 14,
   "id": "5c91d6e8",
   "metadata": {},
   "outputs": [
    {
     "name": "stdout",
     "output_type": "stream",
     "text": [
      "Downloaded the tutorial in 0.001469 seconds\n"
     ]
    }
   ],
   "source": [
    "# Time the event.\n",
    "tic = time.perf_counter()\n",
    "\n",
    "# Choose a model for fitting the data.\n",
    "gaussian_model = GaussianNB()\n",
    "gaussian_model.fit(X_train, y_train)\n",
    "\n",
    "toc = time.perf_counter()\n",
    "print(f\"Downloaded the tutorial in {toc - tic:0.6f} seconds\")"
   ]
  },
  {
   "cell_type": "code",
   "execution_count": 15,
   "id": "16149870",
   "metadata": {},
   "outputs": [
    {
     "data": {
      "text/plain": [
       "0.9779411764705882"
      ]
     },
     "execution_count": 15,
     "metadata": {},
     "output_type": "execute_result"
    }
   ],
   "source": [
    "# Check how good the fit of the model is on the train data.\n",
    "train_accuracy = gaussian_model.score(X_train, y_train)\n",
    "train_accuracy"
   ]
  },
  {
   "cell_type": "code",
   "execution_count": 16,
   "id": "abafc23a",
   "metadata": {},
   "outputs": [
    {
     "data": {
      "text/plain": [
       "0.9705882352941176"
      ]
     },
     "execution_count": 16,
     "metadata": {},
     "output_type": "execute_result"
    }
   ],
   "source": [
    "# Check how good the fit of the model is on the test data.\n",
    "test_accuracy = gaussian_model.score(X_test, y_test)\n",
    "test_accuracy"
   ]
  },
  {
   "cell_type": "code",
   "execution_count": 17,
   "id": "a50c578b",
   "metadata": {},
   "outputs": [
    {
     "data": {
      "text/plain": [
       "array(['Divorced', 'Married', 'Divorced', 'Married', 'Divorced',\n",
       "       'Married', 'Married', 'Married', 'Married', 'Married', 'Married',\n",
       "       'Divorced', 'Married', 'Married', 'Married', 'Divorced',\n",
       "       'Divorced', 'Divorced', 'Married', 'Divorced', 'Divorced',\n",
       "       'Married', 'Married', 'Divorced', 'Divorced', 'Married', 'Married',\n",
       "       'Married', 'Divorced', 'Married', 'Married', 'Divorced', 'Married',\n",
       "       'Divorced'], dtype='<U8')"
      ]
     },
     "execution_count": 17,
     "metadata": {},
     "output_type": "execute_result"
    }
   ],
   "source": [
    "# Test on the test data, try prediction\n",
    "gaussian_prediction = gaussian_model.predict(X_test)\n",
    "gaussian_prediction"
   ]
  },
  {
   "cell_type": "code",
   "execution_count": 18,
   "id": "eaf663c7",
   "metadata": {
    "scrolled": true
   },
   "outputs": [
    {
     "name": "stdout",
     "output_type": "stream",
     "text": [
      "[[13  0]\n",
      " [ 1 20]]\n"
     ]
    }
   ],
   "source": [
    "# Confusion matrix provides an indication of the the errors of prediction\n",
    "print(confusion_matrix(y_test, gaussian_prediction))"
   ]
  },
  {
   "cell_type": "markdown",
   "id": "5acb19b2",
   "metadata": {},
   "source": [
    "#### <span style='color: #A2260B'><i>Conclusion</i></span>"
   ]
  },
  {
   "cell_type": "code",
   "execution_count": 19,
   "id": "1d268fd5",
   "metadata": {},
   "outputs": [
    {
     "name": "stdout",
     "output_type": "stream",
     "text": [
      "Completed the fit in 1.4693 milliseconds\n",
      "The fit has a \u001b[1m\u001b[93mtrain\u001b[0m set accuracy of 97.8 %\n",
      "The fit has a \u001b[1m\u001b[92mtest\u001b[0m set accuracy of 97.1 %\n",
      "The confusion matrix shows \u001b[1m\u001b[91m1\u001b[0m False Negative, and \u001b[1m\u001b[91mno\u001b[0m False Positive\n"
     ]
    }
   ],
   "source": [
    "print(f\"Completed the fit in {round((toc-tic)*1000, 6)} milliseconds\")\n",
    "print(f\"The fit has a \\033[1m\\033[93mtrain\\033[0m set accuracy of {round(train_accuracy*100, 1)} %\")\n",
    "print(f\"The fit has a \\033[1m\\033[92mtest\\033[0m set accuracy of {round(test_accuracy*100, 1)} %\")\n",
    "print(f\"The confusion matrix shows \\033[1m\\033[91m1\\033[0m False Negative, and \\033[1m\\033[91mno\\033[0m False Positive\")"
   ]
  },
  {
   "cell_type": "markdown",
   "id": "7f5d1d71",
   "metadata": {},
   "source": [
    "***\n",
    "#### <span style='color: #A2260B'>Multinomial NB</span>"
   ]
  },
  {
   "cell_type": "code",
   "execution_count": 20,
   "id": "47afbaac",
   "metadata": {},
   "outputs": [
    {
     "name": "stdout",
     "output_type": "stream",
     "text": [
      "Downloaded the tutorial in 0.001191 seconds\n"
     ]
    }
   ],
   "source": [
    "# Time the event.\n",
    "tic = time.perf_counter()\n",
    "\n",
    "multinomial_model = MultinomialNB()\n",
    "multinomial_model.fit(X_train, y_train)\n",
    "\n",
    "toc = time.perf_counter()\n",
    "print(f\"Downloaded the tutorial in {toc - tic:0.6f} seconds\")"
   ]
  },
  {
   "cell_type": "code",
   "execution_count": 21,
   "id": "2db3322a",
   "metadata": {
    "scrolled": true
   },
   "outputs": [
    {
     "data": {
      "text/plain": [
       "0.9926470588235294"
      ]
     },
     "execution_count": 21,
     "metadata": {},
     "output_type": "execute_result"
    }
   ],
   "source": [
    "# Check how good the fit of the model is on the train data.\n",
    "train_accuracy = multinomial_model.score(X_train, y_train)\n",
    "train_accuracy"
   ]
  },
  {
   "cell_type": "code",
   "execution_count": 22,
   "id": "989df295",
   "metadata": {},
   "outputs": [
    {
     "data": {
      "text/plain": [
       "0.9705882352941176"
      ]
     },
     "execution_count": 22,
     "metadata": {},
     "output_type": "execute_result"
    }
   ],
   "source": [
    "# Check how good the fit of the model is on the test data.\n",
    "test_accuracy = multinomial_model.score(X_test, y_test)\n",
    "test_accuracy"
   ]
  },
  {
   "cell_type": "code",
   "execution_count": 23,
   "id": "aa00af5f",
   "metadata": {},
   "outputs": [
    {
     "data": {
      "text/plain": [
       "array(['Married', 'Married', 'Divorced', 'Married', 'Divorced', 'Married',\n",
       "       'Married', 'Married', 'Married', 'Married', 'Divorced', 'Divorced',\n",
       "       'Married', 'Married', 'Married', 'Divorced', 'Divorced',\n",
       "       'Divorced', 'Married', 'Divorced', 'Divorced', 'Married',\n",
       "       'Married', 'Divorced', 'Divorced', 'Married', 'Married', 'Married',\n",
       "       'Divorced', 'Married', 'Married', 'Divorced', 'Married',\n",
       "       'Divorced'], dtype='<U8')"
      ]
     },
     "execution_count": 23,
     "metadata": {},
     "output_type": "execute_result"
    }
   ],
   "source": [
    "# Test on the test data, try prediction\n",
    "multinomial_prediction = multinomial_model.predict(X_test)\n",
    "multinomial_prediction"
   ]
  },
  {
   "cell_type": "code",
   "execution_count": 24,
   "id": "3d450fc5",
   "metadata": {},
   "outputs": [
    {
     "name": "stdout",
     "output_type": "stream",
     "text": [
      "[[13  0]\n",
      " [ 1 20]]\n"
     ]
    }
   ],
   "source": [
    "# Confusion matrix provides an indication of the the errors of prediction\n",
    "print(confusion_matrix(y_test, multinomial_prediction))"
   ]
  },
  {
   "cell_type": "markdown",
   "id": "584e8785",
   "metadata": {},
   "source": [
    "#### <span style='color: #A2260B'><i>Conclusion</i></span>"
   ]
  },
  {
   "cell_type": "code",
   "execution_count": 25,
   "id": "688d2222",
   "metadata": {},
   "outputs": [
    {
     "name": "stdout",
     "output_type": "stream",
     "text": [
      "Completed the fit in 1.191 milliseconds\n",
      "The fit has a \u001b[1m\u001b[93mtrain\u001b[0m set accuracy of 99.3 %\n",
      "The fit has a \u001b[1m\u001b[92mtest\u001b[0m set accuracy of 97.1 %\n",
      "The confusion matrix shows \u001b[1m\u001b[91m1\u001b[0m False Negative, and \u001b[1m\u001b[91mno\u001b[0m False Positive\n"
     ]
    }
   ],
   "source": [
    "print(f\"Completed the fit in {round((toc-tic)*1000, 6)} milliseconds\")\n",
    "print(f\"The fit has a \\033[1m\\033[93mtrain\\033[0m set accuracy of {round(train_accuracy*100, 1)} %\")\n",
    "print(f\"The fit has a \\033[1m\\033[92mtest\\033[0m set accuracy of {round(test_accuracy*100, 1)} %\")\n",
    "print(f\"The confusion matrix shows \\033[1m\\033[91m1\\033[0m False Negative, and \\033[1m\\033[91mno\\033[0m False Positive\")"
   ]
  },
  {
   "cell_type": "markdown",
   "id": "a09f7a9f",
   "metadata": {},
   "source": [
    "***\n",
    "#### <span style='color: #A2260B'>Logistic Regression</span>"
   ]
  },
  {
   "cell_type": "code",
   "execution_count": 26,
   "id": "dc755b3e",
   "metadata": {},
   "outputs": [
    {
     "name": "stdout",
     "output_type": "stream",
     "text": [
      "Downloaded the tutorial in 0.006093 seconds\n"
     ]
    }
   ],
   "source": [
    "# Time the event.\n",
    "tic = time.perf_counter()\n",
    "\n",
    "logistic_regression_model = LogisticRegression()\n",
    "logistic_regression_model.fit(X_train, y_train)\n",
    "\n",
    "toc = time.perf_counter()\n",
    "print(f\"Downloaded the tutorial in {toc - tic:0.6f} seconds\")"
   ]
  },
  {
   "cell_type": "code",
   "execution_count": 27,
   "id": "fa2d866f",
   "metadata": {
    "scrolled": true
   },
   "outputs": [
    {
     "data": {
      "text/plain": [
       "1.0"
      ]
     },
     "execution_count": 27,
     "metadata": {},
     "output_type": "execute_result"
    }
   ],
   "source": [
    "# Check how good the fit of the model is on the train data.\n",
    "train_accuracy = logistic_regression_model.score(X_train, y_train)\n",
    "train_accuracy"
   ]
  },
  {
   "cell_type": "code",
   "execution_count": 28,
   "id": "d33b9f8a",
   "metadata": {},
   "outputs": [
    {
     "data": {
      "text/plain": [
       "1.0"
      ]
     },
     "execution_count": 28,
     "metadata": {},
     "output_type": "execute_result"
    }
   ],
   "source": [
    "# Check how good the fit of the model is on the test data.\n",
    "test_accuracy = logistic_regression_model.score(X_test, y_test)\n",
    "test_accuracy"
   ]
  },
  {
   "cell_type": "code",
   "execution_count": 29,
   "id": "522e794a",
   "metadata": {},
   "outputs": [
    {
     "data": {
      "text/plain": [
       "array(['Married', 'Married', 'Divorced', 'Married', 'Divorced', 'Married',\n",
       "       'Married', 'Married', 'Married', 'Married', 'Married', 'Divorced',\n",
       "       'Married', 'Married', 'Married', 'Divorced', 'Divorced',\n",
       "       'Divorced', 'Married', 'Divorced', 'Divorced', 'Married',\n",
       "       'Married', 'Divorced', 'Divorced', 'Married', 'Married', 'Married',\n",
       "       'Divorced', 'Married', 'Married', 'Divorced', 'Married',\n",
       "       'Divorced'], dtype=object)"
      ]
     },
     "execution_count": 29,
     "metadata": {},
     "output_type": "execute_result"
    }
   ],
   "source": [
    "# Test on the test data, try prediction\n",
    "logistic_regression_prediction = logistic_regression_model.predict(X_test)\n",
    "logistic_regression_prediction"
   ]
  },
  {
   "cell_type": "code",
   "execution_count": 30,
   "id": "b7123fb3",
   "metadata": {},
   "outputs": [
    {
     "name": "stdout",
     "output_type": "stream",
     "text": [
      "[[13  0]\n",
      " [ 0 21]]\n"
     ]
    }
   ],
   "source": [
    "# Confusion matrix provides an indication of the the errors of prediction\n",
    "print(confusion_matrix(y_test, logistic_regression_prediction))"
   ]
  },
  {
   "cell_type": "code",
   "execution_count": 31,
   "id": "9f4f2e64",
   "metadata": {},
   "outputs": [
    {
     "name": "stdout",
     "output_type": "stream",
     "text": [
      "Completed the fit in 6.0935 milliseconds\n",
      "The fit has a \u001b[1m\u001b[93mtrain\u001b[0m set accuracy of 100.0 %\n",
      "The fit has a \u001b[1m\u001b[92mtest\u001b[0m set accuracy of 100.0 %\n",
      "The confusion matrix shows \u001b[1m\u001b[91mno\u001b[0m False Negative, and \u001b[1m\u001b[91mno\u001b[0m False Positive\n"
     ]
    }
   ],
   "source": [
    "print(f\"Completed the fit in {round((toc-tic)*1000, 6)} milliseconds\")\n",
    "print(f\"The fit has a \\033[1m\\033[93mtrain\\033[0m set accuracy of {round(train_accuracy*100, 1)} %\")\n",
    "print(f\"The fit has a \\033[1m\\033[92mtest\\033[0m set accuracy of {round(test_accuracy*100, 1)} %\")\n",
    "print(f\"The confusion matrix shows \\033[1m\\033[91mno\\033[0m False Negative, and \\033[1m\\033[91mno\\033[0m False Positive\")"
   ]
  },
  {
   "cell_type": "markdown",
   "id": "bef26ed6",
   "metadata": {},
   "source": [
    "***\n",
    "## Step 5: Applying dimensionality reduction (PCA)"
   ]
  },
  {
   "cell_type": "markdown",
   "id": "dd9aa96f",
   "metadata": {},
   "source": [
    "#### <span style='color: #A2260B'>Using PCA to reduce to <u>10</u> columns.</span>"
   ]
  },
  {
   "cell_type": "code",
   "execution_count": 32,
   "id": "705fbc4c",
   "metadata": {},
   "outputs": [],
   "source": [
    "pca = PCA(n_components=10)\n",
    "new_columns = ['1', '2', '3', '4', '5', '6', '7', '8', '9', '10']\n",
    "components = pca.fit_transform(X)\n",
    "df_10 = pd.DataFrame(data = components, columns = new_columns)\n",
    "array_10 = df_10.values"
   ]
  },
  {
   "cell_type": "code",
   "execution_count": 33,
   "id": "5f0053f8",
   "metadata": {},
   "outputs": [],
   "source": [
    "X_train_10, X_test_10, y_train_10, y_test_10 = model_selection.train_test_split(\n",
    "    array_10, \n",
    "    y, \n",
    "    test_size = test_set_size, \n",
    "    random_state = seed\n",
    ")"
   ]
  },
  {
   "cell_type": "code",
   "execution_count": 34,
   "id": "91eafe0d",
   "metadata": {},
   "outputs": [
    {
     "name": "stdout",
     "output_type": "stream",
     "text": [
      "Downloaded the tutorial in 0.006391 seconds\n"
     ]
    }
   ],
   "source": [
    "# Time the event.\n",
    "tic = time.perf_counter()\n",
    "\n",
    "logistic_regression_model_2 = LogisticRegression()\n",
    "logistic_regression_model_2.fit(X_train_10, y_train_10)\n",
    "\n",
    "toc = time.perf_counter()\n",
    "print(f\"Downloaded the tutorial in {toc - tic:0.6f} seconds\")"
   ]
  },
  {
   "cell_type": "code",
   "execution_count": 35,
   "id": "48a6f022",
   "metadata": {},
   "outputs": [
    {
     "data": {
      "text/plain": [
       "1.0"
      ]
     },
     "execution_count": 35,
     "metadata": {},
     "output_type": "execute_result"
    }
   ],
   "source": [
    "train_accuracy = logistic_regression_model_2.score(X_train_10, y_train_10)\n",
    "train_accuracy"
   ]
  },
  {
   "cell_type": "code",
   "execution_count": 36,
   "id": "74d853d9",
   "metadata": {
    "scrolled": true
   },
   "outputs": [
    {
     "data": {
      "text/plain": [
       "1.0"
      ]
     },
     "execution_count": 36,
     "metadata": {},
     "output_type": "execute_result"
    }
   ],
   "source": [
    "test_accuracy = logistic_regression_model_2.score(X_test_10, y_test_10)\n",
    "test_accuracy"
   ]
  },
  {
   "cell_type": "code",
   "execution_count": 37,
   "id": "7430e6a5",
   "metadata": {},
   "outputs": [
    {
     "name": "stdout",
     "output_type": "stream",
     "text": [
      "Completed the fit in 6.3912 milliseconds\n",
      "The fit has a \u001b[1m\u001b[93mtrain\u001b[0m set accuracy of 100.0 %\n",
      "The fit has a \u001b[1m\u001b[92mtest\u001b[0m set accuracy of 100.0 %\n"
     ]
    }
   ],
   "source": [
    "print(f\"Completed the fit in {round((toc-tic)*1000, 6)} milliseconds\")\n",
    "print(f\"The fit has a \\033[1m\\033[93mtrain\\033[0m set accuracy of {round(train_accuracy*100, 1)} %\")\n",
    "print(f\"The fit has a \\033[1m\\033[92mtest\\033[0m set accuracy of {round(test_accuracy*100, 1)} %\")"
   ]
  },
  {
   "cell_type": "markdown",
   "id": "e363f3af",
   "metadata": {},
   "source": [
    "#### <span style='color: #A2260B'>Using PCA to reduce to <u>5</u> columns.</span>"
   ]
  },
  {
   "cell_type": "code",
   "execution_count": 38,
   "id": "36650567",
   "metadata": {},
   "outputs": [],
   "source": [
    "pca = PCA(n_components=5)\n",
    "new_columns = ['1', '2', '3', '4', '5']\n",
    "components = pca.fit_transform(X)\n",
    "df_5 = pd.DataFrame(data = components, columns = new_columns)\n",
    "array_5 = df_5.values"
   ]
  },
  {
   "cell_type": "code",
   "execution_count": 39,
   "id": "94a3bebb",
   "metadata": {},
   "outputs": [],
   "source": [
    "X_train_5, X_test_5, y_train_5, y_test_5 = model_selection.train_test_split(\n",
    "    array_5, \n",
    "    y, \n",
    "    test_size = test_set_size, \n",
    "    random_state = seed\n",
    ")"
   ]
  },
  {
   "cell_type": "code",
   "execution_count": 40,
   "id": "6a1996be",
   "metadata": {},
   "outputs": [
    {
     "name": "stdout",
     "output_type": "stream",
     "text": [
      "Downloaded the tutorial in 0.004859 seconds\n"
     ]
    }
   ],
   "source": [
    "# Time the event.\n",
    "tic = time.perf_counter()\n",
    "\n",
    "logistic_regression_model_2 = LogisticRegression()\n",
    "logistic_regression_model_2.fit(X_train_5, y_train_5)\n",
    "\n",
    "toc = time.perf_counter()\n",
    "print(f\"Downloaded the tutorial in {toc - tic:0.6f} seconds\")"
   ]
  },
  {
   "cell_type": "code",
   "execution_count": 41,
   "id": "1279b7ef",
   "metadata": {},
   "outputs": [
    {
     "data": {
      "text/plain": [
       "1.0"
      ]
     },
     "execution_count": 41,
     "metadata": {},
     "output_type": "execute_result"
    }
   ],
   "source": [
    "train_accuracy = logistic_regression_model_2.score(X_train_5, y_train_5)\n",
    "train_accuracy"
   ]
  },
  {
   "cell_type": "code",
   "execution_count": 42,
   "id": "3a38f5b4",
   "metadata": {
    "scrolled": true
   },
   "outputs": [
    {
     "data": {
      "text/plain": [
       "1.0"
      ]
     },
     "execution_count": 42,
     "metadata": {},
     "output_type": "execute_result"
    }
   ],
   "source": [
    "test_accuracy = logistic_regression_model_2.score(X_test_5, y_test_5)\n",
    "test_accuracy"
   ]
  },
  {
   "cell_type": "code",
   "execution_count": 43,
   "id": "00ee5671",
   "metadata": {},
   "outputs": [
    {
     "name": "stdout",
     "output_type": "stream",
     "text": [
      "Completed the fit in 4.8591 milliseconds\n",
      "The fit has a \u001b[1m\u001b[93mtrain\u001b[0m set accuracy of 100.0 %\n",
      "The fit has a \u001b[1m\u001b[92mtest\u001b[0m set accuracy of 100.0 %\n"
     ]
    }
   ],
   "source": [
    "print(f\"Completed the fit in {round((toc-tic)*1000, 6)} milliseconds\")\n",
    "print(f\"The fit has a \\033[1m\\033[93mtrain\\033[0m set accuracy of {round(train_accuracy*100, 1)} %\")\n",
    "print(f\"The fit has a \\033[1m\\033[92mtest\\033[0m set accuracy of {round(test_accuracy*100, 1)} %\")"
   ]
  },
  {
   "cell_type": "code",
   "execution_count": null,
   "id": "4ba57bfe",
   "metadata": {},
   "outputs": [],
   "source": []
  }
 ],
 "metadata": {
  "kernelspec": {
   "display_name": "Python 3 (ipykernel)",
   "language": "python",
   "name": "python3"
  },
  "language_info": {
   "codemirror_mode": {
    "name": "ipython",
    "version": 3
   },
   "file_extension": ".py",
   "mimetype": "text/x-python",
   "name": "python",
   "nbconvert_exporter": "python",
   "pygments_lexer": "ipython3",
   "version": "3.9.7"
  }
 },
 "nbformat": 4,
 "nbformat_minor": 5
}
