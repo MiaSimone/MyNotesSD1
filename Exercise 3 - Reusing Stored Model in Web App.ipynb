{
 "cells": [
  {
   "cell_type": "markdown",
   "metadata": {},
   "source": [
    "# Exercise 3:  Reusing Stored Model in Web App"
   ]
  },
  {
   "cell_type": "markdown",
   "metadata": {},
   "source": [
    "## Load and Test the Model from a File"
   ]
  },
  {
   "cell_type": "code",
   "execution_count": 1,
   "metadata": {},
   "outputs": [],
   "source": [
    "# For serialization and deserialization of data from/to file\n",
    "# from sklearn.externals \n",
    "import joblib\n",
    "msmodel = joblib.load('msmodel_meanshift.pkl')"
   ]
  },
  {
   "cell_type": "code",
   "execution_count": 2,
   "metadata": {},
   "outputs": [
    {
     "data": {
      "text/plain": [
       "array([1], dtype=int64)"
      ]
     },
     "execution_count": 2,
     "metadata": {},
     "output_type": "execute_result"
    }
   ],
   "source": [
    "# Test reading from the file\n",
    "my_prediction = msmodel.predict([[137,  83]])\n",
    "my_prediction"
   ]
  },
  {
   "cell_type": "markdown",
   "metadata": {},
   "source": [
    "## Install Flask"
   ]
  },
  {
   "cell_type": "code",
   "execution_count": 3,
   "metadata": {},
   "outputs": [
    {
     "name": "stdout",
     "output_type": "stream",
     "text": [
      "Requirement already satisfied: flask-bootstrap in c:\\users\\miade\\anaconda3\\lib\\site-packages (3.3.7.1)\n",
      "Requirement already satisfied: visitor in c:\\users\\miade\\anaconda3\\lib\\site-packages (from flask-bootstrap) (0.1.3)\n",
      "Requirement already satisfied: dominate in c:\\users\\miade\\anaconda3\\lib\\site-packages (from flask-bootstrap) (2.6.0)\n",
      "Requirement already satisfied: Flask>=0.8 in c:\\users\\miade\\anaconda3\\lib\\site-packages (from flask-bootstrap) (1.1.2)\n",
      "Requirement already satisfied: Werkzeug>=0.15 in c:\\users\\miade\\anaconda3\\lib\\site-packages (from Flask>=0.8->flask-bootstrap) (2.0.2)\n",
      "Requirement already satisfied: Jinja2>=2.10.1 in c:\\users\\miade\\anaconda3\\lib\\site-packages (from Flask>=0.8->flask-bootstrap) (2.11.3)\n",
      "Requirement already satisfied: click>=5.1 in c:\\users\\miade\\anaconda3\\lib\\site-packages (from Flask>=0.8->flask-bootstrap) (8.0.3)\n",
      "Requirement already satisfied: itsdangerous>=0.24 in c:\\users\\miade\\anaconda3\\lib\\site-packages (from Flask>=0.8->flask-bootstrap) (2.0.1)\n",
      "Requirement already satisfied: colorama in c:\\users\\miade\\anaconda3\\lib\\site-packages (from click>=5.1->Flask>=0.8->flask-bootstrap) (0.4.4)\n",
      "Requirement already satisfied: MarkupSafe>=0.23 in c:\\users\\miade\\anaconda3\\lib\\site-packages (from Jinja2>=2.10.1->Flask>=0.8->flask-bootstrap) (1.1.1)\n"
     ]
    }
   ],
   "source": [
    "!pip install flask-bootstrap"
   ]
  },
  {
   "cell_type": "code",
   "execution_count": 4,
   "metadata": {},
   "outputs": [
    {
     "name": "stdout",
     "output_type": "stream",
     "text": [
      "Requirement already satisfied: wtforms in c:\\users\\miade\\anaconda3\\lib\\site-packages (3.0.1)\n",
      "Requirement already satisfied: MarkupSafe in c:\\users\\miade\\anaconda3\\lib\\site-packages (from wtforms) (1.1.1)\n"
     ]
    }
   ],
   "source": [
    "!pip install wtforms"
   ]
  },
  {
   "cell_type": "markdown",
   "metadata": {},
   "source": [
    "## Create Flask Web Server"
   ]
  },
  {
   "cell_type": "code",
   "execution_count": 5,
   "metadata": {},
   "outputs": [
    {
     "name": "stdout",
     "output_type": "stream",
     "text": [
      "Overwriting mswebapp.py\n"
     ]
    }
   ],
   "source": [
    "%%writefile mswebapp.py\n",
    "\n",
    "# Import libraries\n",
    "import numpy as np\n",
    "\n",
    "# from sklearn.externals \n",
    "import joblib\n",
    "import pickle\n",
    "from flask import Flask, request, jsonify, render_template\n",
    "\n",
    "# create an instance (our app)\n",
    "#app = Flask(__name__)\n",
    "app = Flask(__name__, template_folder='templates')\n",
    "\n",
    "msmodel = joblib.load('msmodel_meanshift.pkl')\n",
    "\n",
    "@app.route('/', methods=['GET', 'POST'])\n",
    "\n",
    "@app.route('/hi/<name>')\n",
    "def hello(name = None):\n",
    "    return render_template('start.html', name=name)\n",
    "# name is parameter in the template: {{name}}\n",
    "\n",
    "@app.route('/predict')\n",
    "def predict():\n",
    "    return render_template('prediction.html')\n",
    "\n",
    "@app.route('/predicted', methods=['GET', 'POST'])\n",
    "def predicted():\n",
    "    if request.method == 'POST':\n",
    "        x1 = request.form['x1']\n",
    "        x2 = request.form['x2']\n",
    "        X = [[x1, x2]]\n",
    "        predicted = msmodel.predict(X)\n",
    "          \n",
    "        return render_template(\"predicted.html\", content=X, prediction=predicted)\n",
    "    \n",
    "@app.route('/bye')\n",
    "def bye():\n",
    "    return render_template('bye.html')\n",
    "\n",
    "if __name__ == '__main__':\n",
    "    app.run(debug=True)"
   ]
  },
  {
   "cell_type": "code",
   "execution_count": 6,
   "metadata": {},
   "outputs": [
    {
     "name": "stdout",
     "output_type": "stream",
     "text": [
      "^C\n"
     ]
    }
   ],
   "source": [
    "!python mswebapp.py"
   ]
  },
  {
   "cell_type": "markdown",
   "metadata": {},
   "source": [
    "### Go to http://localhost:5000/"
   ]
  },
  {
   "cell_type": "code",
   "execution_count": 7,
   "metadata": {},
   "outputs": [
    {
     "ename": "NameError",
     "evalue": "name '__init__' is not defined",
     "output_type": "error",
     "traceback": [
      "\u001b[1;31m---------------------------------------------------------------------------\u001b[0m",
      "\u001b[1;31mNameError\u001b[0m                                 Traceback (most recent call last)",
      "\u001b[1;32m~\\AppData\\Local\\Temp/ipykernel_17608/2764597769.py\u001b[0m in \u001b[0;36m<module>\u001b[1;34m\u001b[0m\n\u001b[0;32m      1\u001b[0m \u001b[1;31m# 127.0.0.1:5000\u001b[0m\u001b[1;33m\u001b[0m\u001b[1;33m\u001b[0m\u001b[0m\n\u001b[1;32m----> 2\u001b[1;33m \u001b[0m__init__\u001b[0m\u001b[1;33m.\u001b[0m\u001b[0mpy\u001b[0m\u001b[1;33m\u001b[0m\u001b[1;33m\u001b[0m\u001b[0m\n\u001b[0m",
      "\u001b[1;31mNameError\u001b[0m: name '__init__' is not defined"
     ]
    }
   ],
   "source": [
    "__init__.py"
   ]
  },
  {
   "cell_type": "code",
   "execution_count": null,
   "metadata": {},
   "outputs": [],
   "source": []
  }
 ],
 "metadata": {
  "kernelspec": {
   "display_name": "Python 3 (ipykernel)",
   "language": "python",
   "name": "python3"
  },
  "language_info": {
   "codemirror_mode": {
    "name": "ipython",
    "version": 3
   },
   "file_extension": ".py",
   "mimetype": "text/x-python",
   "name": "python",
   "nbconvert_exporter": "python",
   "pygments_lexer": "ipython3",
   "version": "3.9.7"
  }
 },
 "nbformat": 4,
 "nbformat_minor": 2
}
